{
 "cells": [
  {
   "cell_type": "code",
   "execution_count": 1,
   "id": "dec89751-bdc0-4042-97d0-012866e71544",
   "metadata": {},
   "outputs": [],
   "source": [
    "import math\n",
    "import statistics\n",
    "import random"
   ]
  },
  {
   "cell_type": "code",
   "execution_count": 2,
   "id": "289f58f7-5afb-437d-b94f-5549570a59fe",
   "metadata": {},
   "outputs": [
    {
     "name": "stdout",
     "output_type": "stream",
     "text": [
      "\n",
      "1. Состав модуля math (первые 20 элементов):\n",
      "['__doc__', '__loader__', '__name__', '__package__', '__spec__', 'acos', 'acosh', 'asin', 'asinh', 'atan', 'atan2', 'atanh', 'cbrt', 'ceil', 'comb', 'copysign', 'cos', 'cosh', 'degrees', 'dist']\n",
      "\n",
      "Состав модуля statistics (первые 20 элементов):\n",
      "['Counter', 'Decimal', 'Fraction', 'LinearRegression', 'NormalDist', 'StatisticsError', '_SQRT2', '__all__', '__annotations__', '__builtins__', '__cached__', '__doc__', '__file__', '__loader__', '__name__', '__package__', '__spec__', '_coerce', '_convert', '_decimal_sqrt_of_frac']\n"
     ]
    }
   ],
   "source": [
    "print(\"\\n1. Состав модуля math (первые 20 элементов):\")\n",
    "print(dir(math)[:20])\n",
    "\n",
    "print(\"\\nСостав модуля statistics (первые 20 элементов):\")\n",
    "print(dir(statistics)[:20])"
   ]
  },
  {
   "cell_type": "code",
   "execution_count": 3,
   "id": "2351d6a5-dbc8-4d0a-aae6-6bb238db96ed",
   "metadata": {},
   "outputs": [
    {
     "name": "stdout",
     "output_type": "stream",
     "text": [
      "\n",
      "2. Создан список чисел:\n",
      "[12, 45, 78, 34, 56, 89, 23, 67, 90, 11]\n"
     ]
    }
   ],
   "source": [
    "numbers = [12, 45, 78, 34, 56, 89, 23, 67, 90, 11]\n",
    "print(\"\\n2. Создан список чисел:\")\n",
    "print(numbers)"
   ]
  },
  {
   "cell_type": "code",
   "execution_count": 4,
   "id": "49f9c794-e69a-4e12-8491-5f5bd845e3ed",
   "metadata": {},
   "outputs": [
    {
     "name": "stdout",
     "output_type": "stream",
     "text": [
      "\n",
      "3. Статистические показатели:\n",
      "Сумма чисел: 505\n"
     ]
    }
   ],
   "source": [
    "print(\"\\n3. Статистические показатели:\")\n",
    "# Сумма чисел\n",
    "sum_numbers = sum(numbers)\n",
    "print(f\"Сумма чисел: {sum_numbers}\")"
   ]
  },
  {
   "cell_type": "code",
   "execution_count": 5,
   "id": "32f06897-da86-464f-bd3b-4c0b8701019a",
   "metadata": {},
   "outputs": [
    {
     "name": "stdout",
     "output_type": "stream",
     "text": [
      "Среднее значение: 50.50\n"
     ]
    }
   ],
   "source": [
    "mean_value = statistics.mean(numbers)\n",
    "print(f\"Среднее значение: {mean_value:.2f}\")"
   ]
  },
  {
   "cell_type": "code",
   "execution_count": 6,
   "id": "689862f9-0043-4ca5-a08d-314089aaf52e",
   "metadata": {},
   "outputs": [
    {
     "name": "stdout",
     "output_type": "stream",
     "text": [
      "Медиана: 50.5\n"
     ]
    }
   ],
   "source": [
    "median_value = statistics.median(numbers)\n",
    "print(f\"Медиана: {median_value}\")\n"
   ]
  },
  {
   "cell_type": "code",
   "execution_count": 7,
   "id": "f2c46905-d251-4f56-8306-d3d267ca9ed4",
   "metadata": {},
   "outputs": [
    {
     "name": "stdout",
     "output_type": "stream",
     "text": [
      "Стандартное отклонение: 30.19\n"
     ]
    }
   ],
   "source": [
    "stdev_value = statistics.stdev(numbers)\n",
    "print(f\"Стандартное отклонение: {stdev_value:.2f}\")"
   ]
  },
  {
   "cell_type": "code",
   "execution_count": 8,
   "id": "53c102cb-e491-4213-9e34-3f2cbd825160",
   "metadata": {},
   "outputs": [
    {
     "name": "stdout",
     "output_type": "stream",
     "text": [
      "\n",
      "4. Генерация случайного числа:\n",
      "Случайное число от 1 до 100: 79\n"
     ]
    }
   ],
   "source": [
    "print(\"\\n4. Генерация случайного числа:\")\n",
    "random_number = random.randint(1, 100)\n",
    "print(f\"Случайное число от 1 до 100: {random_number}\")"
   ]
  },
  {
   "cell_type": "code",
   "execution_count": 9,
   "id": "e703bdca-afa5-423c-8f6f-76bbe0d0575b",
   "metadata": {},
   "outputs": [
    {
     "name": "stdout",
     "output_type": "stream",
     "text": [
      "Квадратный корень из 12: 3.46\n"
     ]
    }
   ],
   "source": [
    "sqrt_first = math.sqrt(numbers[0])\n",
    "print(f\"Квадратный корень из {numbers[0]}: {sqrt_first:.2f}\")\n"
   ]
  },
  {
   "cell_type": "code",
   "execution_count": 10,
   "id": "dfda4b78-aa92-43c5-bc60-cccb572c87d7",
   "metadata": {},
   "outputs": [
    {
     "name": "stdout",
     "output_type": "stream",
     "text": [
      "Число 56 слишком большое для вычисления факториала\n"
     ]
    }
   ],
   "source": [
    "if numbers[4] < 20:\n",
    "    factorial = math.factorial(numbers[4])\n",
    "    print(f\"Факториал {numbers[4]}: {factorial}\")\n",
    "else:\n",
    "    print(f\"Число {numbers[4]} слишком большое для вычисления факториала\")\n"
   ]
  },
  {
   "cell_type": "code",
   "execution_count": 11,
   "id": "56f9c496-c595-40b9-a6e0-c6c5e5144e0e",
   "metadata": {},
   "outputs": [
    {
     "name": "stdout",
     "output_type": "stream",
     "text": [
      "\n",
      "Использование from math import pi, cos:\n",
      "Значение π: 3.14159\n",
      "Косинус π/3: 0.500\n"
     ]
    }
   ],
   "source": [
    "from math import pi, cos\n",
    "\n",
    "print(f\"\\nИспользование from math import pi, cos:\")\n",
    "print(f\"Значение π: {pi:.5f}\")\n",
    "print(f\"Косинус π/3: {cos(pi/3):.3f}\")"
   ]
  },
  {
   "cell_type": "code",
   "execution_count": null,
   "id": "945bd585-ad93-4e29-9f43-cad63dae6a6c",
   "metadata": {},
   "outputs": [],
   "source": []
  }
 ],
 "metadata": {
  "kernelspec": {
   "display_name": "Python 3 (ipykernel)",
   "language": "python",
   "name": "python3"
  },
  "language_info": {
   "codemirror_mode": {
    "name": "ipython",
    "version": 3
   },
   "file_extension": ".py",
   "mimetype": "text/x-python",
   "name": "python",
   "nbconvert_exporter": "python",
   "pygments_lexer": "ipython3",
   "version": "3.12.7"
  }
 },
 "nbformat": 4,
 "nbformat_minor": 5
}
