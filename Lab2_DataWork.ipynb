{
 "cells": [
  {
   "cell_type": "code",
   "execution_count": 1,
   "id": "9600849d-7eef-4941-9ad5-9c8cee4e9893",
   "metadata": {},
   "outputs": [
    {
     "name": "stdout",
     "output_type": "stream",
     "text": [
      "Исходные строки:\n",
      "string1 = This is a string.\n",
      "string2 =  This is another string.\n",
      "\n"
     ]
    }
   ],
   "source": [
    "string1 = \"This is a string.\"\n",
    "string2 = \" This is another string.\"\n",
    "\n",
    "print(\"Исходные строки:\")\n",
    "print(\"string1 =\", string1)\n",
    "print(\"string2 =\", string2)\n",
    "print()"
   ]
  },
  {
   "cell_type": "code",
   "execution_count": 2,
   "id": "b145071f-a2a4-4a9b-b136-00556b4bd842",
   "metadata": {},
   "outputs": [
    {
     "name": "stdout",
     "output_type": "stream",
     "text": [
      "2. Конкатенация строк (string1 + string2):\n",
      "This is a string. This is another string.\n",
      "\n"
     ]
    }
   ],
   "source": [
    "concatenated = string1 + string2\n",
    "print(\"2. Конкатенация строк (string1 + string2):\")\n",
    "print(concatenated)\n",
    "print()"
   ]
  },
  {
   "cell_type": "code",
   "execution_count": 3,
   "id": "763fa59f-5e60-4e81-9d6c-2108a3320ebb",
   "metadata": {},
   "outputs": [
    {
     "name": "stdout",
     "output_type": "stream",
     "text": [
      "3. Применение функций к строкам:\n",
      "Длина string1 (len(string1)): 17\n",
      "string1.title(): This Is A String.\n",
      "string1.lower(): this is a string.\n",
      "string1.upper(): THIS IS A STRING.\n"
     ]
    }
   ],
   "source": [
    "print(\"3. Применение функций к строкам:\")\n",
    "print(\"Длина string1 (len(string1)):\", len(string1))\n",
    "print(\"string1.title():\", string1.title())\n",
    "print(\"string1.lower():\", string1.lower())\n",
    "print(\"string1.upper():\", string1.upper())"
   ]
  },
  {
   "cell_type": "code",
   "execution_count": 4,
   "id": "51a3a6fb-c7f6-4035-bc6c-6956158666f8",
   "metadata": {},
   "outputs": [
    {
     "name": "stdout",
     "output_type": "stream",
     "text": [
      "\n",
      "Исходная строка с пробелами: '   hello world   '\n",
      "rstrip(): '   hello world'\n",
      "lstrip(): 'hello world   '\n",
      "strip(): 'hello world'\n"
     ]
    }
   ],
   "source": [
    "string_with_spaces = \"   hello world   \"\n",
    "print(\"\\nИсходная строка с пробелами: '\", string_with_spaces, \"'\", sep=\"\")\n",
    "print(\"rstrip(): '\", string_with_spaces.rstrip(), \"'\", sep=\"\")\n",
    "print(\"lstrip(): '\", string_with_spaces.lstrip(), \"'\", sep=\"\")\n",
    "print(\"strip(): '\", string_with_spaces.strip(), \"'\", sep=\"\")\n"
   ]
  },
  {
   "cell_type": "code",
   "execution_count": 5,
   "id": "ab41998c-e740-43a6-9324-12d84ea32302",
   "metadata": {},
   "outputs": [
    {
     "name": "stdout",
     "output_type": "stream",
     "text": [
      "4. Извлечение символа:\n",
      "d = qwerty\n",
      "d[2] = e\n",
      "\n"
     ]
    }
   ],
   "source": [
    "d = \"qwerty\"\n",
    "ch = d[2]\n",
    "print(\"4. Извлечение символа:\")\n",
    "print(\"d =\", d)\n",
    "print(\"d[2] =\", ch)\n",
    "print()"
   ]
  },
  {
   "cell_type": "code",
   "execution_count": 6,
   "id": "a6b0377a-f1a4-4a58-869c-aef45206a372",
   "metadata": {},
   "outputs": [
    {
     "name": "stdout",
     "output_type": "stream",
     "text": [
      "5. Извлечение среза:\n",
      "d[1:3] = we\n",
      "\n"
     ]
    }
   ],
   "source": [
    "chm = d[1:3]\n",
    "print(\"5. Извлечение среза:\")\n",
    "print(\"d[1:3] =\", chm)\n",
    "print()"
   ]
  },
  {
   "cell_type": "code",
   "execution_count": 7,
   "id": "fa49ea3e-1ddc-48a5-87b4-49e316ce57f8",
   "metadata": {},
   "outputs": [
    {
     "name": "stdout",
     "output_type": "stream",
     "text": [
      "6. Другие варианты срезов:\n",
      "d[1:] = werty\n",
      "d[:3] = qwe\n",
      "d[:] = qwerty\n",
      "d[1:5:2] = wr\n",
      "\n"
     ]
    }
   ],
   "source": [
    "print(\"6. Другие варианты срезов:\")\n",
    "print(\"d[1:] =\", d[1:])\n",
    "print(\"d[:3] =\", d[:3])\n",
    "print(\"d[:] =\", d[:])\n",
    "print(\"d[1:5:2] =\", d[1:5:2])\n",
    "print()"
   ]
  },
  {
   "cell_type": "code",
   "execution_count": 8,
   "id": "b7af2e4b-593a-47a7-b1a6-8c44bb7e7bd7",
   "metadata": {},
   "outputs": [
    {
     "name": "stdout",
     "output_type": "stream",
     "text": [
      "7. Попытка изменить строку:\n",
      "Ошибка: 'str' object does not support item assignment\n",
      "Строки в Python неизменяемы!\n"
     ]
    }
   ],
   "source": [
    "print(\"7. Попытка изменить строку:\")\n",
    "try:\n",
    "    d[2] = 'o'\n",
    "except TypeError as e:\n",
    "    print(\"Ошибка:\", e)\n",
    "    print(\"Строки в Python неизменяемы!\")"
   ]
  },
  {
   "cell_type": "code",
   "execution_count": 11,
   "id": "5295b2ae-f6ed-4cf8-9cc6-65666cd1f9a9",
   "metadata": {},
   "outputs": [],
   "source": [
    "#Работа с числами"
   ]
  },
  {
   "cell_type": "code",
   "execution_count": 12,
   "id": "52577841-c3a6-4cd5-ae91-3027373ed0c3",
   "metadata": {},
   "outputs": [
    {
     "name": "stdout",
     "output_type": "stream",
     "text": [
      "\n",
      "2. Операции с целыми числами:\n",
      "15 // 4 = 3\n",
      "15 % 4 = 3\n",
      "15 ** 4 = 50625\n"
     ]
    }
   ],
   "source": [
    "num1 = 15\n",
    "num2 = 4\n",
    "\n",
    "print(\"\\n2. Операции с целыми числами:\")\n",
    "print(f\"{num1} // {num2} =\", num1 // num2)  # целочисленное деление\n",
    "print(f\"{num1} % {num2} =\", num1 % num2)    # остаток от деления\n",
    "print(f\"{num1} ** {num2} =\", num1 ** num2)  # возведение в степень"
   ]
  },
  {
   "cell_type": "code",
   "execution_count": 13,
   "id": "93a3f7ec-bfd9-4c20-927c-b39bed4fef96",
   "metadata": {},
   "outputs": [
    {
     "name": "stdout",
     "output_type": "stream",
     "text": [
      "\n",
      "3. Попытка сложения строки и числа:\n",
      "Ошибка: can only concatenate str (not \"int\") to str\n",
      "Исправленный вариант:\n",
      "string15\n"
     ]
    }
   ],
   "source": [
    "print(\"\\n3. Попытка сложения строки и числа:\")\n",
    "try:\n",
    "    param = \"string\" + 15\n",
    "except TypeError as e:\n",
    "    print(\"Ошибка:\", e)\n",
    "    print(\"Исправленный вариант:\")\n",
    "    param = \"string\" + str(15)\n",
    "    print(param)\n"
   ]
  },
  {
   "cell_type": "code",
   "execution_count": 14,
   "id": "060ddaf4-378f-4d59-bf9f-8b9ae3daef94",
   "metadata": {},
   "outputs": [],
   "source": [
    "# Преобразование данных"
   ]
  },
  {
   "cell_type": "code",
   "execution_count": 15,
   "id": "8b307393-06d3-4b9f-8747-9e7e941de8cc",
   "metadata": {},
   "outputs": [
    {
     "name": "stdout",
     "output_type": "stream",
     "text": [
      "\n",
      "1. Конкатенация с преобразованием:\n",
      "Результат: 42\n"
     ]
    }
   ],
   "source": [
    "print(\"\\n1. Конкатенация с преобразованием:\")\n",
    "result = \"Результат: \" + str(42)\n",
    "print(result)"
   ]
  },
  {
   "cell_type": "code",
   "execution_count": 16,
   "id": "78a624db-d4ca-406d-a421-421be1dbebb3",
   "metadata": {},
   "outputs": [
    {
     "name": "stdout",
     "output_type": "stream",
     "text": [
      "\n",
      "2. Программа сложения двух чисел:\n"
     ]
    },
    {
     "name": "stdin",
     "output_type": "stream",
     "text": [
      "Enter the first number:  1\n",
      "Enter the second number:  2\n"
     ]
    },
    {
     "name": "stdout",
     "output_type": "stream",
     "text": [
      "1 plus 2 =  3.0\n"
     ]
    }
   ],
   "source": [
    "print(\"\\n2. Программа сложения двух чисел:\")\n",
    "n1 = input(\"Enter the first number: \")\n",
    "n2 = input(\"Enter the second number: \")\n",
    "n3 = float(n1) + float(n2)\n",
    "print(n1 + \" plus \" + n2 + \" = \", n3)"
   ]
  },
  {
   "cell_type": "code",
   "execution_count": 17,
   "id": "5815eacb-5e53-4c01-89d2-76da7e5d2df8",
   "metadata": {},
   "outputs": [],
   "source": [
    "# Форматирование строк\n"
   ]
  },
  {
   "cell_type": "code",
   "execution_count": 18,
   "id": "de64d444-d075-4815-b6cd-c9c6758d3d95",
   "metadata": {},
   "outputs": [
    {
     "name": "stdout",
     "output_type": "stream",
     "text": [
      "\n",
      "1. Форматный вывод:\n",
      "  0.333\n"
     ]
    }
   ],
   "source": [
    "print(\"\\n1. Форматный вывод:\")\n",
    "a = 1/3\n",
    "print(\"{:7.3f}\".format(a))  # 7 позиций, 3 знака после запятой"
   ]
  },
  {
   "cell_type": "code",
   "execution_count": 19,
   "id": "21f1d754-4e54-4ef8-9366-6eed1504683d",
   "metadata": {},
   "outputs": [
    {
     "name": "stdout",
     "output_type": "stream",
     "text": [
      "\n",
      "2. Форматный вывод нескольких значений:\n",
      "  0.667   0.222\n",
      " 6.667e-01  2.222e-01\n"
     ]
    }
   ],
   "source": [
    "print(\"\\n2. Форматный вывод нескольких значений:\")\n",
    "a = 2/3\n",
    "b = 2/9\n",
    "print(\"{:7.3f} {:7.3f}\".format(a, b))        # формат с фиксированной точкой\n",
    "print(\"{:10.3e} {:10.3e}\".format(a, b))      # экспоненциальный формат"
   ]
  },
  {
   "cell_type": "code",
   "execution_count": 20,
   "id": "ab4a30bd-7d16-4782-b273-31a977386833",
   "metadata": {},
   "outputs": [
    {
     "name": "stdout",
     "output_type": "stream",
     "text": [
      "РАБОТА СО СПИСКАМИ\n"
     ]
    }
   ],
   "source": [
    "print(\"РАБОТА СО СПИСКАМИ\")"
   ]
  },
  {
   "cell_type": "code",
   "execution_count": 21,
   "id": "83f02754-9b38-4463-8360-4e7c95bbdb47",
   "metadata": {},
   "outputs": [
    {
     "name": "stdout",
     "output_type": "stream",
     "text": [
      "\n",
      "1. Исходный список:\n",
      "[82, 8, 23, 97, 92, 44, 17, 39, 11, 12]\n"
     ]
    }
   ],
   "source": [
    "list1 = [82, 8, 23, 97, 92, 44, 17, 39, 11, 12]\n",
    "print(\"\\n1. Исходный список:\")\n",
    "print(list1)"
   ]
  },
  {
   "cell_type": "code",
   "execution_count": 22,
   "id": "223e4b63-4373-426d-b45c-b4986c5502c5",
   "metadata": {},
   "outputs": [
    {
     "name": "stdout",
     "output_type": "stream",
     "text": [
      "\n",
      "2. Методы работы со списками:\n",
      "['__add__', '__class__', '__class_getitem__', '__contains__', '__delattr__', '__delitem__', '__dir__', '__doc__', '__eq__', '__format__', '__ge__', '__getattribute__', '__getitem__', '__getstate__', '__gt__', '__hash__', '__iadd__', '__imul__', '__init__', '__init_subclass__', '__iter__', '__le__', '__len__', '__lt__', '__mul__', '__ne__', '__new__', '__reduce__', '__reduce_ex__', '__repr__', '__reversed__', '__rmul__', '__setattr__', '__setitem__', '__sizeof__', '__str__', '__subclasshook__', 'append', 'clear', 'copy', 'count', 'extend', 'index', 'insert', 'pop', 'remove', 'reverse', 'sort']\n"
     ]
    }
   ],
   "source": [
    "print(\"\\n2. Методы работы со списками:\")\n",
    "print(dir(list))"
   ]
  },
  {
   "cell_type": "code",
   "execution_count": 23,
   "id": "800a5dd6-dc82-4101-bc77-7d7c65004de8",
   "metadata": {},
   "outputs": [
    {
     "name": "stdout",
     "output_type": "stream",
     "text": [
      "\n",
      "3. Справка по методам:\n",
      "Help on method_descriptor:\n",
      "\n",
      "insert(self, index, object, /) unbound builtins.list method\n",
      "    Insert object before index.\n",
      "\n",
      "Help on method_descriptor:\n",
      "\n",
      "append(self, object, /) unbound builtins.list method\n",
      "    Append object to the end of the list.\n",
      "\n",
      "Help on method_descriptor:\n",
      "\n",
      "sort(self, /, *, key=None, reverse=False) unbound builtins.list method\n",
      "    Sort the list in ascending order and return None.\n",
      "\n",
      "    The sort is in-place (i.e. the list itself is modified) and stable (i.e. the\n",
      "    order of two equal elements is maintained).\n",
      "\n",
      "    If a key function is given, apply it once to each list item and sort them,\n",
      "    ascending or descending, according to their function values.\n",
      "\n",
      "    The reverse flag can be set to sort in descending order.\n",
      "\n",
      "Help on method_descriptor:\n",
      "\n",
      "remove(self, value, /) unbound builtins.list method\n",
      "    Remove first occurrence of value.\n",
      "\n",
      "    Raises ValueError if the value is not present.\n",
      "\n",
      "Help on method_descriptor:\n",
      "\n",
      "reverse(self, /) unbound builtins.list method\n",
      "    Reverse *IN PLACE*.\n",
      "\n"
     ]
    }
   ],
   "source": [
    "print(\"\\n3. Справка по методам:\")\n",
    "help(list.insert)\n",
    "help(list.append)\n",
    "help(list.sort)\n",
    "help(list.remove)\n",
    "help(list.reverse)"
   ]
  },
  {
   "cell_type": "code",
   "execution_count": 24,
   "id": "3333ddc3-3cf7-4a93-8d46-d01c99d36e05",
   "metadata": {},
   "outputs": [
    {
     "name": "stdout",
     "output_type": "stream",
     "text": [
      "\n",
      "4. Список после изменения элементов:\n",
      "[100, 8, 23, 200, 92, 44, 17, 39, 11, 12]\n"
     ]
    }
   ],
   "source": [
    "list1[0] = 100\n",
    "list1[3] = 200\n",
    "print(\"\\n4. Список после изменения элементов:\")\n",
    "print(list1)"
   ]
  },
  {
   "cell_type": "code",
   "execution_count": 25,
   "id": "f5b9ff2a-9cf8-40b1-a643-620217e51b5c",
   "metadata": {},
   "outputs": [
    {
     "name": "stdout",
     "output_type": "stream",
     "text": [
      "\n",
      "5. После добавления элемента в конец:\n",
      "[100, 8, 23, 200, 92, 44, 17, 39, 11, 12, 999]\n"
     ]
    }
   ],
   "source": [
    "list1.append(999)\n",
    "print(\"\\n5. После добавления элемента в конец:\")\n",
    "print(list1)"
   ]
  },
  {
   "cell_type": "code",
   "execution_count": 26,
   "id": "d7bf4c9a-75fb-462b-ae3f-4db3a8b253e9",
   "metadata": {},
   "outputs": [
    {
     "name": "stdout",
     "output_type": "stream",
     "text": [
      "\n",
      "6. После вставки элемента на позицию 3:\n",
      "[100, 8, 23, 555, 200, 92, 44, 17, 39, 11, 12, 999]\n"
     ]
    }
   ],
   "source": [
    "list1.insert(3, 555)\n",
    "print(\"\\n6. После вставки элемента на позицию 3:\")\n",
    "print(list1)\n"
   ]
  },
  {
   "cell_type": "code",
   "execution_count": 27,
   "id": "36147558-896e-4120-bdca-a9d5fe588992",
   "metadata": {},
   "outputs": [
    {
     "name": "stdout",
     "output_type": "stream",
     "text": [
      "\n",
      "7. После удаления элемента с позиции 2:\n",
      "[100, 8, 555, 200, 92, 44, 17, 39, 11, 12, 999]\n"
     ]
    }
   ],
   "source": [
    "del list1[2]\n",
    "print(\"\\n7. После удаления элемента с позиции 2:\")\n",
    "print(list1)\n"
   ]
  },
  {
   "cell_type": "code",
   "execution_count": 28,
   "id": "216b3513-5956-49b9-b854-87c58c27bbe7",
   "metadata": {},
   "outputs": [
    {
     "name": "stdout",
     "output_type": "stream",
     "text": [
      "\n",
      "8. После удаления последнего элемента:\n",
      "[100, 8, 555, 200, 92, 44, 17, 39, 11, 12]\n"
     ]
    }
   ],
   "source": [
    "list1.pop()\n",
    "print(\"\\n8. После удаления последнего элемента:\")\n",
    "print(list1)"
   ]
  },
  {
   "cell_type": "code",
   "execution_count": 29,
   "id": "c80c76ab-a9a2-464a-9e9a-df33a6c1ff04",
   "metadata": {},
   "outputs": [],
   "source": [
    "# СОРТИРОВКА СПИСКА"
   ]
  },
  {
   "cell_type": "code",
   "execution_count": 30,
   "id": "00d86961-ab5f-4bfc-8056-c2c7e3d613d7",
   "metadata": {},
   "outputs": [
    {
     "name": "stdout",
     "output_type": "stream",
     "text": [
      "\n",
      "1. Список после сортировки по убыванию:\n",
      "[555, 200, 100, 92, 44, 39, 17, 12, 11, 8]\n"
     ]
    }
   ],
   "source": [
    "list1.sort(reverse=True)\n",
    "print(\"\\n1. Список после сортировки по убыванию:\")\n",
    "print(list1)"
   ]
  },
  {
   "cell_type": "code",
   "execution_count": 32,
   "id": "44f29b4d-c782-4b2f-8bf6-7f4b532e4b0e",
   "metadata": {},
   "outputs": [
    {
     "name": "stdout",
     "output_type": "stream",
     "text": [
      "Исходный и отсортированный списки:\n",
      "Исходный: [3, 5, 6, 2, 33, 6, 11]\n",
      "Отсортированный: [2, 3, 5, 6, 6, 11, 33]\n"
     ]
    }
   ],
   "source": [
    "list2 = [3, 5, 6, 2, 33, 6, 11]\n",
    "lis = sorted(list2)\n",
    "print(\"Исходный и отсортированный списки:\")\n",
    "print(\"Исходный:\", list2)\n",
    "print(\"Отсортированный:\", lis)"
   ]
  },
  {
   "cell_type": "code",
   "execution_count": 33,
   "id": "b22e60bb-89ca-40af-b2d2-1fa7cd3b47e7",
   "metadata": {},
   "outputs": [],
   "source": [
    "# КОРТЕЖИ"
   ]
  },
  {
   "cell_type": "code",
   "execution_count": 34,
   "id": "05cb3ecb-a89f-40a3-a08d-57387611ff92",
   "metadata": {},
   "outputs": [
    {
     "name": "stdout",
     "output_type": "stream",
     "text": [
      "\n",
      "1. Методы работы с кортежами:\n",
      "['__add__', '__class__', '__class_getitem__', '__contains__', '__delattr__', '__dir__', '__doc__', '__eq__', '__format__', '__ge__', '__getattribute__', '__getitem__', '__getnewargs__', '__getstate__', '__gt__', '__hash__', '__init__', '__init_subclass__', '__iter__', '__le__', '__len__', '__lt__', '__mul__', '__ne__', '__new__', '__reduce__', '__reduce_ex__', '__repr__', '__rmul__', '__setattr__', '__sizeof__', '__str__', '__subclasshook__', 'count', 'index']\n"
     ]
    }
   ],
   "source": [
    "print(\"\\n1. Методы работы с кортежами:\")\n",
    "print(dir(tuple))"
   ]
  },
  {
   "cell_type": "code",
   "execution_count": 35,
   "id": "41e34708-a8b9-43d5-85d2-4e885f57c757",
   "metadata": {},
   "outputs": [
    {
     "name": "stdout",
     "output_type": "stream",
     "text": [
      "\n",
      "2. Справка по методам кортежей:\n",
      "Help on method_descriptor:\n",
      "\n",
      "index(self, value, start=0, stop=9223372036854775807, /) unbound builtins.tuple method\n",
      "    Return first index of value.\n",
      "\n",
      "    Raises ValueError if the value is not present.\n",
      "\n",
      "Help on method_descriptor:\n",
      "\n",
      "count(self, value, /) unbound builtins.tuple method\n",
      "    Return number of occurrences of value.\n",
      "\n"
     ]
    }
   ],
   "source": [
    "print(\"\\n2. Справка по методам кортежей:\")\n",
    "help(tuple.index)\n",
    "help(tuple.count)"
   ]
  },
  {
   "cell_type": "code",
   "execution_count": 36,
   "id": "700e5ac7-4e94-4e37-9dc7-ed13a925a1b3",
   "metadata": {},
   "outputs": [
    {
     "name": "stdout",
     "output_type": "stream",
     "text": [
      "\n",
      "3. Создан кортеж:\n",
      "(2, 8, 23, 97, 92, 44, 17, 39, 11, 12)\n"
     ]
    }
   ],
   "source": [
    "seq = (2, 8, 23, 97, 92, 44, 17, 39, 11, 12)\n",
    "print(\"\\n3. Создан кортеж:\")\n",
    "print(seq)"
   ]
  },
  {
   "cell_type": "code",
   "execution_count": 37,
   "id": "1f2cef74-b38a-4ad6-af4f-c8bb402d29db",
   "metadata": {},
   "outputs": [
    {
     "name": "stdout",
     "output_type": "stream",
     "text": [
      "\n",
      "Дополнительные операции с кортежем:\n",
      "Индекс элемента 97: 3\n",
      "Количество вхождений числа 8: 1\n"
     ]
    }
   ],
   "source": [
    "print(\"\\nДополнительные операции с кортежем:\")\n",
    "print(\"Индекс элемента 97:\", seq.index(97))\n",
    "print(\"Количество вхождений числа 8:\", seq.count(8))"
   ]
  },
  {
   "cell_type": "code",
   "execution_count": 38,
   "id": "0f57db66-6b15-40e3-bf4d-736c68ac0b19",
   "metadata": {},
   "outputs": [
    {
     "name": "stdout",
     "output_type": "stream",
     "text": [
      "\n",
      "Ошибка при попытке изменить кортеж: 'tuple' object does not support item assignment\n"
     ]
    }
   ],
   "source": [
    "try:\n",
    "    seq[0] = 100\n",
    "except TypeError as e:\n",
    "    print(\"\\nОшибка при попытке изменить кортеж:\", e)"
   ]
  },
  {
   "cell_type": "code",
   "execution_count": 39,
   "id": "fbd66588-421e-4a49-aaec-8c2384e09568",
   "metadata": {},
   "outputs": [
    {
     "name": "stdout",
     "output_type": "stream",
     "text": [
      "\n",
      "4. Работа с методами кортежа:\n",
      "seq.count(8) - количество вхождений числа 8: 1\n",
      "seq.index(44) - индекс первого вхождения числа 44: 5\n"
     ]
    }
   ],
   "source": [
    "print(\"\\n4. Работа с методами кортежа:\")\n",
    "print(\"seq.count(8) - количество вхождений числа 8:\", seq.count(8))\n",
    "print(\"seq.index(44) - индекс первого вхождения числа 44:\", seq.index(44))"
   ]
  },
  {
   "cell_type": "code",
   "execution_count": 40,
   "id": "c214822d-a354-47fe-bc50-1edc1ef22a93",
   "metadata": {},
   "outputs": [
    {
     "name": "stdout",
     "output_type": "stream",
     "text": [
      "\n",
      "5. Преобразование кортежа в список:\n",
      "Полученный список: [2, 8, 23, 97, 92, 44, 17, 39, 11, 12]\n"
     ]
    }
   ],
   "source": [
    "listseq = list(seq)\n",
    "print(\"\\n5. Преобразование кортежа в список:\")\n",
    "print(\"Полученный список:\", listseq)"
   ]
  },
  {
   "cell_type": "code",
   "execution_count": 41,
   "id": "ba16dd5c-c386-4537-a860-4676730b0578",
   "metadata": {},
   "outputs": [
    {
     "name": "stdout",
     "output_type": "stream",
     "text": [
      "\n",
      "6. Проверка типа преобразованного объекта:\n",
      "Тип listseq: <class 'list'>\n"
     ]
    }
   ],
   "source": [
    "print(\"\\n6. Проверка типа преобразованного объекта:\")\n",
    "print(\"Тип listseq:\", type(listseq))"
   ]
  },
  {
   "cell_type": "code",
   "execution_count": 42,
   "id": "d1ff01fc-9b1f-43a1-a60c-c4af522857f9",
   "metadata": {},
   "outputs": [
    {
     "name": "stdout",
     "output_type": "stream",
     "text": [
      "\n",
      "7. Применение методов списка к преобразованному кортежу:\n",
      "После append(100): [2, 8, 23, 97, 92, 44, 17, 39, 11, 12, 100]\n",
      "После insert(2, 200): [2, 8, 200, 23, 97, 92, 44, 17, 39, 11, 12, 100]\n",
      "После sort(): [2, 8, 11, 12, 17, 23, 39, 44, 92, 97, 100, 200]\n"
     ]
    }
   ],
   "source": [
    "print(\"\\n7. Применение методов списка к преобразованному кортежу:\")\n",
    "listseq.append(100)\n",
    "print(\"После append(100):\", listseq)\n",
    "listseq.insert(2, 200)\n",
    "print(\"После insert(2, 200):\", listseq)\n",
    "listseq.sort()\n",
    "print(\"После sort():\", listseq)"
   ]
  },
  {
   "cell_type": "code",
   "execution_count": 43,
   "id": "b635616d-ac50-4984-a8cb-28226a311c95",
   "metadata": {},
   "outputs": [],
   "source": [
    "# СЛОВАРИ"
   ]
  },
  {
   "cell_type": "code",
   "execution_count": 44,
   "id": "0c2bef1b-56f5-44bb-b657-05d08e3a4faf",
   "metadata": {},
   "outputs": [
    {
     "name": "stdout",
     "output_type": "stream",
     "text": [
      "\n",
      "1. Создан словарь:\n",
      "{'food': 'Apple', 'quantity': 4, 'color': 'Red'}\n"
     ]
    }
   ],
   "source": [
    "D = {'food': 'Apple', 'quantity': 4, 'color': 'Red'}\n",
    "print(\"\\n1. Создан словарь:\")\n",
    "print(D)"
   ]
  },
  {
   "cell_type": "code",
   "execution_count": 45,
   "id": "f0af9cec-1512-4dfc-8963-032e77e4202f",
   "metadata": {},
   "outputs": [
    {
     "name": "stdout",
     "output_type": "stream",
     "text": [
      "\n",
      "2. Доступ и изменение элементов:\n",
      "D['food']: Apple\n",
      "После D['quantity'] += 10: {'food': 'Apple', 'quantity': 14, 'color': 'Red'}\n"
     ]
    }
   ],
   "source": [
    "print(\"\\n2. Доступ и изменение элементов:\")\n",
    "print(\"D['food']:\", D['food'])\n",
    "D['quantity'] += 10\n",
    "print(\"После D['quantity'] += 10:\", D)"
   ]
  },
  {
   "cell_type": "code",
   "execution_count": 46,
   "id": "55f13e7b-b428-4f82-86c7-8f3917ddace8",
   "metadata": {},
   "outputs": [
    {
     "name": "stdout",
     "output_type": "stream",
     "text": [
      "\n",
      "3. Создан пустой словарь: {}\n"
     ]
    }
   ],
   "source": [
    "dp = {}\n",
    "print(\"\\n3. Создан пустой словарь:\", dp)"
   ]
  },
  {
   "cell_type": "code",
   "execution_count": 47,
   "id": "5c65bb01-0032-4e2b-9dbf-181c2e6fe28f",
   "metadata": {},
   "outputs": [
    {
     "name": "stdout",
     "output_type": "stream",
     "text": [
      "\n",
      "4. Заполнение словаря с клавиатуры:\n"
     ]
    },
    {
     "name": "stdin",
     "output_type": "stream",
     "text": [
      "Введите имя:  Hello world\n",
      "Введите возраст:  15\n"
     ]
    },
    {
     "name": "stdout",
     "output_type": "stream",
     "text": [
      "Заполненный словарь: {'name': 'Hello world', 'age': 15}\n"
     ]
    }
   ],
   "source": [
    "print(\"\\n4. Заполнение словаря с клавиатуры:\")\n",
    "dp['name'] = input(\"Введите имя: \")\n",
    "dp['age'] = int(input(\"Введите возраст: \"))\n",
    "print(\"Заполненный словарь:\", dp)"
   ]
  },
  {
   "cell_type": "code",
   "execution_count": 48,
   "id": "aa30826c-1118-4369-8cd5-f632eb4978a0",
   "metadata": {},
   "outputs": [],
   "source": [
    "# ВЛОЖЕННОСТЬ ХРАНЕНИЯ ДАННЫХ\n"
   ]
  },
  {
   "cell_type": "code",
   "execution_count": 49,
   "id": "911c780d-774a-4df8-845e-ba640f58c659",
   "metadata": {},
   "outputs": [
    {
     "name": "stdout",
     "output_type": "stream",
     "text": [
      "\n",
      "1. Создана сложная структура:\n",
      "{'name': {'firstname': 'Bob', 'lastname': 'Smith'}, 'job': ['dev', 'mgr'], 'age': 25}\n"
     ]
    }
   ],
   "source": [
    "rec = {\n",
    "    'name': {'firstname': 'Bob', 'lastname': 'Smith'},\n",
    "    'job': ['dev', 'mgr'],\n",
    "    'age': 25\n",
    "}\n",
    "print(\"\\n1. Создана сложная структура:\")\n",
    "print(rec)\n"
   ]
  },
  {
   "cell_type": "code",
   "execution_count": 50,
   "id": "4cfc672a-0f8b-4763-9223-0c4a9a199018",
   "metadata": {},
   "outputs": [
    {
     "name": "stdout",
     "output_type": "stream",
     "text": [
      "\n",
      "2. Вывод информации:\n",
      "Полное имя: Bob Smith\n",
      "Имя (firstname): Bob\n",
      "Список должностей: ['dev', 'mgr']\n"
     ]
    }
   ],
   "source": [
    "print(\"\\n2. Вывод информации:\")\n",
    "print(\"Полное имя:\", rec['name']['firstname'], rec['name']['lastname'])\n",
    "print(\"Имя (firstname):\", rec['name']['firstname'])\n",
    "print(\"Список должностей:\", rec['job'])"
   ]
  },
  {
   "cell_type": "code",
   "execution_count": 51,
   "id": "95c95eb0-af6b-45b4-8878-5f38c21cc1c7",
   "metadata": {},
   "outputs": [
    {
     "name": "stdout",
     "output_type": "stream",
     "text": [
      "\n",
      "3. После добавления новой должности:\n",
      "Список должностей: ['dev', 'mgr', 'janitor']\n"
     ]
    }
   ],
   "source": [
    "rec['job'].append('janitor')\n",
    "print(\"\\n3. После добавления новой должности:\")\n",
    "print(\"Список должностей:\", rec['job'])"
   ]
  },
  {
   "cell_type": "code",
   "execution_count": 52,
   "id": "94e72a44-a8f4-4530-9001-14d9f8e3f429",
   "metadata": {},
   "outputs": [
    {
     "name": "stdout",
     "output_type": "stream",
     "text": [
      "\n",
      "4. Полная информация о персоне:\n",
      "Имя: Bob Smith\n",
      "Должности: dev, mgr, janitor\n",
      "Возраст: 25\n"
     ]
    }
   ],
   "source": [
    "print(\"\\n4. Полная информация о персоне:\")\n",
    "print(\"Имя:\", rec['name']['firstname'], rec['name']['lastname'])\n",
    "print(\"Должности:\", ', '.join(rec['job']))\n",
    "print(\"Возраст:\", rec['age'])"
   ]
  },
  {
   "cell_type": "code",
   "execution_count": null,
   "id": "9f9f1a7e-fa85-416d-8d62-7be9929419f2",
   "metadata": {},
   "outputs": [],
   "source": []
  }
 ],
 "metadata": {
  "kernelspec": {
   "display_name": "Python 3 (ipykernel)",
   "language": "python",
   "name": "python3"
  },
  "language_info": {
   "codemirror_mode": {
    "name": "ipython",
    "version": 3
   },
   "file_extension": ".py",
   "mimetype": "text/x-python",
   "name": "python",
   "nbconvert_exporter": "python",
   "pygments_lexer": "ipython3",
   "version": "3.12.7"
  }
 },
 "nbformat": 4,
 "nbformat_minor": 5
}
